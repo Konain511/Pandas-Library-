{
 "cells": [
  {
   "cell_type": "markdown",
   "id": "a22d9f2d-9153-4460-8ee1-0c6bfc8a317c",
   "metadata": {},
   "source": [
    "## DATA ANALYSIS THROUGH PANDAS"
   ]
  },
  {
   "cell_type": "markdown",
   "id": "744fabd9-57fd-48e6-882c-eb4ba8b4e6cf",
   "metadata": {},
   "source": [
    "### Installation Of Pandas"
   ]
  },
  {
   "cell_type": "code",
   "execution_count": 1,
   "id": "2698757e-3bec-494a-8ec3-44326a456f77",
   "metadata": {},
   "outputs": [
    {
     "name": "stdout",
     "output_type": "stream",
     "text": [
      "Defaulting to user installation because normal site-packages is not writeable\n",
      "Requirement already satisfied: pandas in c:\\programdata\\anaconda3\\lib\\site-packages (2.2.2)\n",
      "Requirement already satisfied: numpy>=1.26.0 in c:\\programdata\\anaconda3\\lib\\site-packages (from pandas) (1.26.4)\n",
      "Requirement already satisfied: python-dateutil>=2.8.2 in c:\\programdata\\anaconda3\\lib\\site-packages (from pandas) (2.9.0.post0)\n",
      "Requirement already satisfied: pytz>=2020.1 in c:\\programdata\\anaconda3\\lib\\site-packages (from pandas) (2024.1)\n",
      "Requirement already satisfied: tzdata>=2022.7 in c:\\programdata\\anaconda3\\lib\\site-packages (from pandas) (2023.3)\n",
      "Requirement already satisfied: six>=1.5 in c:\\programdata\\anaconda3\\lib\\site-packages (from python-dateutil>=2.8.2->pandas) (1.16.0)\n",
      "Note: you may need to restart the kernel to use updated packages.\n"
     ]
    }
   ],
   "source": [
    "pip install pandas"
   ]
  },
  {
   "cell_type": "markdown",
   "id": "1f543761-b1ab-48ca-9438-01f3e768aee7",
   "metadata": {},
   "source": [
    "### Version Checking"
   ]
  },
  {
   "cell_type": "code",
   "execution_count": 1,
   "id": "9f18bfbf-75e8-424c-8c25-2468882cacb7",
   "metadata": {},
   "outputs": [
    {
     "name": "stdout",
     "output_type": "stream",
     "text": [
      "2.2.2\n"
     ]
    }
   ],
   "source": [
    "import pandas as pd\n",
    "print(pd.__version__)"
   ]
  },
  {
   "cell_type": "markdown",
   "id": "0c6715ee-56d4-417b-a51a-58762314f086",
   "metadata": {},
   "source": [
    "### Upgrading Version"
   ]
  },
  {
   "cell_type": "code",
   "execution_count": 2,
   "id": "7d27ebb7-358a-4a95-a5f1-a0c9c537a6de",
   "metadata": {},
   "outputs": [
    {
     "name": "stdout",
     "output_type": "stream",
     "text": [
      "Defaulting to user installation because normal site-packages is not writeable\n",
      "Requirement already satisfied: pandas in c:\\programdata\\anaconda3\\lib\\site-packages (2.2.2)\n",
      "Requirement already satisfied: numpy>=1.26.0 in c:\\programdata\\anaconda3\\lib\\site-packages (from pandas) (1.26.4)\n",
      "Requirement already satisfied: python-dateutil>=2.8.2 in c:\\programdata\\anaconda3\\lib\\site-packages (from pandas) (2.9.0.post0)\n",
      "Requirement already satisfied: pytz>=2020.1 in c:\\programdata\\anaconda3\\lib\\site-packages (from pandas) (2024.1)\n",
      "Requirement already satisfied: tzdata>=2022.7 in c:\\programdata\\anaconda3\\lib\\site-packages (from pandas) (2023.3)\n",
      "Requirement already satisfied: six>=1.5 in c:\\programdata\\anaconda3\\lib\\site-packages (from python-dateutil>=2.8.2->pandas) (1.16.0)\n",
      "Note: you may need to restart the kernel to use updated packages.\n"
     ]
    }
   ],
   "source": [
    "pip install --upgrade pandas"
   ]
  },
  {
   "cell_type": "code",
   "execution_count": 3,
   "id": "fda89351-0d0f-4a8b-a95c-eae8ef140491",
   "metadata": {},
   "outputs": [
    {
     "name": "stdout",
     "output_type": "stream",
     "text": [
      "2.2.2\n"
     ]
    }
   ],
   "source": [
    "print(pd.__version__)"
   ]
  },
  {
   "cell_type": "markdown",
   "id": "4b18ce8b-e407-4116-8829-ed05d1237945",
   "metadata": {},
   "source": [
    "### DATA FRAME"
   ]
  },
  {
   "cell_type": "code",
   "execution_count": 5,
   "id": "f5df02a6-0eb5-49e9-9491-fdc9c2636e11",
   "metadata": {},
   "outputs": [
    {
     "name": "stdout",
     "output_type": "stream",
     "text": [
      "     Cars  Model\n",
      "0     BMW   2015\n",
      "1   Tesla   2021\n",
      "2  Grandi   2017\n"
     ]
    }
   ],
   "source": [
    "df={\n",
    "    \"Cars\":[\"BMW\",\"Tesla\",\"Grandi\"],\n",
    "    \"Model\":[2015,2021,2017]\n",
    "}\n",
    "# print(df)\n",
    "myvar=pd.DataFrame(df)\n",
    "print(myvar)"
   ]
  },
  {
   "cell_type": "markdown",
   "id": "dd11e76c-699a-42cf-86a0-d1c6382de48c",
   "metadata": {},
   "source": [
    "### SERIES"
   ]
  },
  {
   "cell_type": "code",
   "execution_count": 8,
   "id": "50cf0fe9-98a5-419b-86f4-d41cb95b2936",
   "metadata": {},
   "outputs": [
    {
     "name": "stdout",
     "output_type": "stream",
     "text": [
      "0    1\n",
      "1    2\n",
      "2    3\n",
      "3    4\n",
      "dtype: object\n"
     ]
    }
   ],
   "source": [
    "df1=[1,2,3,4]\n",
    "df=pd.Series(df1)\n",
    "print(df)"
   ]
  },
  {
   "cell_type": "markdown",
   "id": "3bb53d9a-3b63-4304-8b0d-a7dfdcc8d685",
   "metadata": {},
   "source": [
    "### Labeling"
   ]
  },
  {
   "cell_type": "code",
   "execution_count": 10,
   "id": "d5b1d874-724b-4d33-87ba-ea57abd4797b",
   "metadata": {},
   "outputs": [
    {
     "name": "stdout",
     "output_type": "stream",
     "text": [
      "1st Student      Ali\n",
      "2nd Student    Hamza\n",
      "3rd Student      MRK\n",
      "dtype: object\n"
     ]
    }
   ],
   "source": [
    "df2=['Ali','Hamza','MRK']\n",
    "dataset=pd.Series(df2,['1st Student','2nd Student','3rd Student'])\n",
    "print(dataset)\n"
   ]
  },
  {
   "cell_type": "code",
   "execution_count": 14,
   "id": "4a9b5a0e-51a0-4021-8cfb-1fd0a3e4100b",
   "metadata": {
    "jp-MarkdownHeadingCollapsed": true
   },
   "outputs": [
    {
     "name": "stdout",
     "output_type": "stream",
     "text": [
      "day1    430\n",
      "day2    400\n",
      "dtype: int64\n"
     ]
    }
   ],
   "source": [
    "df3={\"day1\":430,\"day2\":400,'day3':380}\n",
    "var=pd.Series(df3)\n",
    "print(var[0:2])"
   ]
  },
  {
   "cell_type": "markdown",
   "id": "4701e770-7b9f-4f49-8762-61e32b3e915b",
   "metadata": {},
   "source": [
    "##### NAME INDEX"
   ]
  },
  {
   "cell_type": "code",
   "execution_count": 15,
   "id": "79d8715c-cfb1-4f24-832d-f362f98a62a0",
   "metadata": {},
   "outputs": [
    {
     "name": "stdout",
     "output_type": "stream",
     "text": [
      "day1    430\n",
      "day2    400\n",
      "dtype: int64\n"
     ]
    }
   ],
   "source": [
    "df3={\"day1\":430,\"day2\":400,'day3':380}\n",
    "var=pd.Series(df3,index=[\"day1\",\"day2\"])\n",
    "print(var)"
   ]
  },
  {
   "cell_type": "code",
   "execution_count": 16,
   "id": "2e61ffd6-6967-4acd-8678-4c1dd7d893eb",
   "metadata": {},
   "outputs": [
    {
     "name": "stdout",
     "output_type": "stream",
     "text": [
      "    cars  Model\n",
      "0    BMW   2021\n",
      "1  Volvo   2022\n",
      "2  Tesla   2023\n"
     ]
    }
   ],
   "source": [
    "data = {\n",
    "    \"cars\":[\"BMW\",\"Volvo\",\"Tesla\"],\n",
    "    \"Model\":[2021,2022,2023]\n",
    "}\n",
    "df=pd.DataFrame(data)\n",
    "print(df)"
   ]
  },
  {
   "cell_type": "markdown",
   "id": "99eb3cc1-ed80-48a9-a40e-82fcbeb9cac4",
   "metadata": {},
   "source": [
    "#### Locate Rows"
   ]
  },
  {
   "cell_type": "code",
   "execution_count": 2,
   "id": "071266ed-b01c-49da-8996-da6ba05763e5",
   "metadata": {},
   "outputs": [
    {
     "name": "stdout",
     "output_type": "stream",
     "text": [
      "cars      BMW\n",
      "Model    2021\n",
      "Name: 0, dtype: object\n"
     ]
    }
   ],
   "source": [
    "import pandas as pd\n",
    "data = {\n",
    "    \"cars\":[\"BMW\",\"Volvo\",\"Tesla\"],\n",
    "    \"Model\":[2021,2022,2023]\n",
    "}\n",
    "df=pd.DataFrame(data)\n",
    "print(df.loc[0])"
   ]
  },
  {
   "cell_type": "markdown",
   "id": "a16a410b-40bd-42d6-959f-78ee3ab1d529",
   "metadata": {},
   "source": [
    "#### File Loading"
   ]
  },
  {
   "cell_type": "code",
   "execution_count": 22,
   "id": "bb9fba72-b591-4b9f-857c-303adb77ee04",
   "metadata": {},
   "outputs": [
    {
     "name": "stdout",
     "output_type": "stream",
     "text": [
      "     Duration  Pulse  Maxpulse  Calories\n",
      "0          60    110       130     409.1\n",
      "1          60    117       145     479.0\n",
      "2          60    103       135     340.0\n",
      "3          45    109       175     282.4\n",
      "4          45    117       148     406.0\n",
      "..        ...    ...       ...       ...\n",
      "164        60    105       140     290.8\n",
      "165        60    110       145     300.0\n",
      "166        60    115       145     310.2\n",
      "167        75    120       150     320.4\n",
      "168        75    125       150     330.4\n",
      "\n",
      "[169 rows x 4 columns]\n"
     ]
    }
   ],
   "source": [
    "file_loading = pd.read_csv(\"Downloads/data.csv\")\n",
    "print(file_loading)   #Read and Display First And Last values of File "
   ]
  },
  {
   "cell_type": "code",
   "execution_count": 21,
   "id": "f07e6720-1efb-45c2-9dd6-db7345695891",
   "metadata": {},
   "outputs": [
    {
     "name": "stdout",
     "output_type": "stream",
     "text": [
      "     Duration  Pulse  Maxpulse  Calories\n",
      "0          60    110       130     409.1\n",
      "1          60    117       145     479.0\n",
      "2          60    103       135     340.0\n",
      "3          45    109       175     282.4\n",
      "4          45    117       148     406.0\n",
      "5          60    102       127     300.0\n",
      "6          60    110       136     374.0\n",
      "7          45    104       134     253.3\n",
      "8          30    109       133     195.1\n",
      "9          60     98       124     269.0\n",
      "10         60    103       147     329.3\n",
      "11         60    100       120     250.7\n",
      "12         60    106       128     345.3\n",
      "13         60    104       132     379.3\n",
      "14         60     98       123     275.0\n",
      "15         60     98       120     215.2\n",
      "16         60    100       120     300.0\n",
      "17         45     90       112       NaN\n",
      "18         60    103       123     323.0\n",
      "19         45     97       125     243.0\n",
      "20         60    108       131     364.2\n",
      "21         45    100       119     282.0\n",
      "22         60    130       101     300.0\n",
      "23         45    105       132     246.0\n",
      "24         60    102       126     334.5\n",
      "25         60    100       120     250.0\n",
      "26         60     92       118     241.0\n",
      "27         60    103       132       NaN\n",
      "28         60    100       132     280.0\n",
      "29         60    102       129     380.3\n",
      "30         60     92       115     243.0\n",
      "31         45     90       112     180.1\n",
      "32         60    101       124     299.0\n",
      "33         60     93       113     223.0\n",
      "34         60    107       136     361.0\n",
      "35         60    114       140     415.0\n",
      "36         60    102       127     300.0\n",
      "37         60    100       120     300.0\n",
      "38         60    100       120     300.0\n",
      "39         45    104       129     266.0\n",
      "40         45     90       112     180.1\n",
      "41         60     98       126     286.0\n",
      "42         60    100       122     329.4\n",
      "43         60    111       138     400.0\n",
      "44         60    111       131     397.0\n",
      "45         60     99       119     273.0\n",
      "46         60    109       153     387.6\n",
      "47         45    111       136     300.0\n",
      "48         45    108       129     298.0\n",
      "49         60    111       139     397.6\n",
      "50         60    107       136     380.2\n",
      "51         80    123       146     643.1\n",
      "52         60    106       130     263.0\n",
      "53         60    118       151     486.0\n",
      "54         30    136       175     238.0\n",
      "55         60    121       146     450.7\n",
      "56         60    118       121     413.0\n",
      "57         45    115       144     305.0\n",
      "58         20    153       172     226.4\n",
      "59         45    123       152     321.0\n",
      "60        210    108       160    1376.0\n",
      "61        160    110       137    1034.4\n",
      "62        160    109       135     853.0\n",
      "63         45    118       141     341.0\n",
      "64         20    110       130     131.4\n",
      "65        180     90       130     800.4\n",
      "66        150    105       135     873.4\n",
      "67        150    107       130     816.0\n",
      "68         20    106       136     110.4\n",
      "69        300    108       143    1500.2\n",
      "70        150     97       129    1115.0\n",
      "71         60    109       153     387.6\n",
      "72         90    100       127     700.0\n",
      "73        150     97       127     953.2\n",
      "74         45    114       146     304.0\n",
      "75         90     98       125     563.2\n",
      "76         45    105       134     251.0\n",
      "77         45    110       141     300.0\n",
      "78        120    100       130     500.4\n",
      "79        270    100       131    1729.0\n",
      "80         30    159       182     319.2\n",
      "81         45    149       169     344.0\n",
      "82         30    103       139     151.1\n",
      "83        120    100       130     500.0\n",
      "84         45    100       120     225.3\n",
      "85         30    151       170     300.0\n",
      "86         45    102       136     234.0\n",
      "87        120    100       157    1000.1\n",
      "88         45    129       103     242.0\n",
      "89         20     83       107      50.3\n",
      "90        180    101       127     600.1\n",
      "91         45    107       137       NaN\n",
      "92         30     90       107     105.3\n",
      "93         15     80       100      50.5\n",
      "94         20    150       171     127.4\n",
      "95         20    151       168     229.4\n",
      "96         30     95       128     128.2\n",
      "97         25    152       168     244.2\n",
      "98         30    109       131     188.2\n",
      "99         90     93       124     604.1\n",
      "100        20     95       112      77.7\n",
      "101        90     90       110     500.0\n",
      "102        90     90       100     500.0\n",
      "103        90     90       100     500.4\n",
      "104        30     92       108      92.7\n",
      "105        30     93       128     124.0\n",
      "106       180     90       120     800.3\n",
      "107        30     90       120      86.2\n",
      "108        90     90       120     500.3\n",
      "109       210    137       184    1860.4\n",
      "110        60    102       124     325.2\n",
      "111        45    107       124     275.0\n",
      "112        15    124       139     124.2\n",
      "113        45    100       120     225.3\n",
      "114        60    108       131     367.6\n",
      "115        60    108       151     351.7\n",
      "116        60    116       141     443.0\n",
      "117        60     97       122     277.4\n",
      "118        60    105       125       NaN\n",
      "119        60    103       124     332.7\n",
      "120        30    112       137     193.9\n",
      "121        45    100       120     100.7\n",
      "122        60    119       169     336.7\n",
      "123        60    107       127     344.9\n",
      "124        60    111       151     368.5\n",
      "125        60     98       122     271.0\n",
      "126        60     97       124     275.3\n",
      "127        60    109       127     382.0\n",
      "128        90     99       125     466.4\n",
      "129        60    114       151     384.0\n",
      "130        60    104       134     342.5\n",
      "131        60    107       138     357.5\n",
      "132        60    103       133     335.0\n",
      "133        60    106       132     327.5\n",
      "134        60    103       136     339.0\n",
      "135        20    136       156     189.0\n",
      "136        45    117       143     317.7\n",
      "137        45    115       137     318.0\n",
      "138        45    113       138     308.0\n",
      "139        20    141       162     222.4\n",
      "140        60    108       135     390.0\n",
      "141        60     97       127       NaN\n",
      "142        45    100       120     250.4\n",
      "143        45    122       149     335.4\n",
      "144        60    136       170     470.2\n",
      "145        45    106       126     270.8\n",
      "146        60    107       136     400.0\n",
      "147        60    112       146     361.9\n",
      "148        30    103       127     185.0\n",
      "149        60    110       150     409.4\n",
      "150        60    106       134     343.0\n",
      "151        60    109       129     353.2\n",
      "152        60    109       138     374.0\n",
      "153        30    150       167     275.8\n",
      "154        60    105       128     328.0\n",
      "155        60    111       151     368.5\n",
      "156        60     97       131     270.4\n",
      "157        60    100       120     270.4\n",
      "158        60    114       150     382.8\n",
      "159        30     80       120     240.9\n",
      "160        30     85       120     250.4\n",
      "161        45     90       130     260.4\n",
      "162        45     95       130     270.0\n",
      "163        45    100       140     280.9\n",
      "164        60    105       140     290.8\n",
      "165        60    110       145     300.0\n",
      "166        60    115       145     310.2\n",
      "167        75    120       150     320.4\n",
      "168        75    125       150     330.4\n"
     ]
    }
   ],
   "source": [
    "file_loading = pd.read_csv(\"Downloads/data.csv\")\n",
    "print(file_loading.to_string()) #Read and Display Full File "
   ]
  },
  {
   "cell_type": "code",
   "execution_count": 29,
   "id": "7e1be667-e883-4e59-8612-9bae73494077",
   "metadata": {},
   "outputs": [
    {
     "name": "stdout",
     "output_type": "stream",
     "text": [
      "      Country Name Country Code  Year        Value\n",
      "0       Arab World          ARB  1960   96388069.0\n",
      "1       Arab World          ARB  1961   98882541.4\n",
      "2       Arab World          ARB  1962  101474075.8\n",
      "3       Arab World          ARB  1963  104169209.2\n",
      "4       Arab World          ARB  1964  106978104.6\n",
      "...            ...          ...   ...          ...\n",
      "12402     Zimbabwe          ZWE  2006   12529655.0\n",
      "12403     Zimbabwe          ZWE  2007   12481245.0\n",
      "12404     Zimbabwe          ZWE  2008   12451543.0\n",
      "12405     Zimbabwe          ZWE  2009   12473992.0\n",
      "12406     Zimbabwe          ZWE  2010   12571000.0\n",
      "\n",
      "[12407 rows x 4 columns]\n"
     ]
    }
   ],
   "source": [
    "file_loading = pd.read_json(\"Downloads/population_data.json\")\n",
    "print(file_loading) #Read and Display Full File "
   ]
  },
  {
   "cell_type": "markdown",
   "id": "9a8f580c-6948-400a-8bec-25803eb88678",
   "metadata": {},
   "source": [
    "#### MAX ROWS AND MIN ROWS"
   ]
  },
  {
   "cell_type": "code",
   "execution_count": 25,
   "id": "704a7fce-1f7f-4c5c-8738-59f728ce8d3e",
   "metadata": {},
   "outputs": [
    {
     "data": {
      "text/plain": [
       "60"
      ]
     },
     "execution_count": 25,
     "metadata": {},
     "output_type": "execute_result"
    }
   ],
   "source": [
    "pd.options.display.max_rows"
   ]
  },
  {
   "cell_type": "code",
   "execution_count": 27,
   "id": "58443c6c-b7e0-42d1-a426-c36a80e102da",
   "metadata": {},
   "outputs": [
    {
     "data": {
      "text/plain": [
       "10"
      ]
     },
     "execution_count": 27,
     "metadata": {},
     "output_type": "execute_result"
    }
   ],
   "source": [
    "pd.options.display.min_rows"
   ]
  },
  {
   "cell_type": "markdown",
   "id": "5bacab92-54a7-466c-9d40-bca845cac050",
   "metadata": {},
   "source": [
    "### ANALYSIS OF DATA"
   ]
  },
  {
   "cell_type": "markdown",
   "id": "e242933a-a2c8-43bc-833c-0725e7c810ff",
   "metadata": {},
   "source": [
    "#### VIEWING THE DATA"
   ]
  },
  {
   "cell_type": "markdown",
   "id": "58bf2402-952b-45bf-ad42-c8c95123db58",
   "metadata": {},
   "source": [
    "##### HEAD FUNCTION"
   ]
  },
  {
   "cell_type": "code",
   "execution_count": 33,
   "id": "8a40e6f1-c51c-4e4d-bc4e-4e8769a75911",
   "metadata": {},
   "outputs": [
    {
     "name": "stdout",
     "output_type": "stream",
     "text": [
      "   Duration  Pulse  Maxpulse  Calories\n",
      "0        60    110       130     409.1\n",
      "1        60    117       145     479.0\n",
      "2        60    103       135     340.0\n",
      "3        45    109       175     282.4\n",
      "4        45    117       148     406.0\n"
     ]
    }
   ],
   "source": [
    "# Return first five values default to check the formatting the data....\n",
    "file_loading = pd.read_csv(\"Downloads/data.csv\")\n",
    "print(file_loading.head())"
   ]
  },
  {
   "cell_type": "markdown",
   "id": "4a8d55aa-69f3-41d2-81d3-fbcb02b64c8a",
   "metadata": {},
   "source": [
    "##### TAIL FUNCTION"
   ]
  },
  {
   "cell_type": "code",
   "execution_count": 3,
   "id": "d94ee25b-aa72-43e4-b877-b679de16c837",
   "metadata": {},
   "outputs": [
    {
     "name": "stdout",
     "output_type": "stream",
     "text": [
      "     Duration Pulse  Maxpulse  Calories\n",
      "164        60   105     140.0     290.8\n",
      "165        60   110     145.0     300.0\n",
      "166        60   115     145.0     310.2\n",
      "167        75   120     150.0     320.4\n",
      "168        75   125     150.0     330.4\n"
     ]
    }
   ],
   "source": [
    "# Return last five values default to check the formatting the data....\n",
    "file_loading = pd.read_csv(\"Downloads/data.csv\")\n",
    "print(file_loading.tail())"
   ]
  },
  {
   "cell_type": "markdown",
   "id": "afa6f952-a3d5-415f-8ac1-8b8b3c67f2d4",
   "metadata": {},
   "source": [
    "##### INFO ABOUT FILE"
   ]
  },
  {
   "cell_type": "code",
   "execution_count": 4,
   "id": "7133e3f9-b22b-46a8-9842-1759b6cb96b9",
   "metadata": {},
   "outputs": [
    {
     "name": "stdout",
     "output_type": "stream",
     "text": [
      "<class 'pandas.core.frame.DataFrame'>\n",
      "RangeIndex: 169 entries, 0 to 168\n",
      "Data columns (total 4 columns):\n",
      " #   Column    Non-Null Count  Dtype  \n",
      "---  ------    --------------  -----  \n",
      " 0   Duration  169 non-null    int64  \n",
      " 1   Pulse     169 non-null    object \n",
      " 2   Maxpulse  168 non-null    float64\n",
      " 3   Calories  164 non-null    float64\n",
      "dtypes: float64(2), int64(1), object(1)\n",
      "memory usage: 5.4+ KB\n"
     ]
    }
   ],
   "source": [
    "file_loading.info()"
   ]
  },
  {
   "cell_type": "markdown",
   "id": "b10962a9-84ae-459e-a976-19376a713d49",
   "metadata": {},
   "source": [
    "#### CLEANING"
   ]
  },
  {
   "cell_type": "markdown",
   "id": "ee004c23-ba78-496f-85da-b8129a9cd0c5",
   "metadata": {},
   "source": [
    "##### DROP NULL VALUES"
   ]
  },
  {
   "cell_type": "code",
   "execution_count": 5,
   "id": "5b3486cb-f85c-4336-ab7c-5f79742a202a",
   "metadata": {},
   "outputs": [
    {
     "name": "stdout",
     "output_type": "stream",
     "text": [
      "     Duration Pulse  Maxpulse  Calories\n",
      "0          60   ABC     130.0     409.1\n",
      "1          60   117     145.0     479.0\n",
      "2          60   103     135.0     340.0\n",
      "4          45   117     148.0     406.0\n",
      "5          60   102     127.0     300.0\n",
      "6          60   110     136.0     374.0\n",
      "7          45   104     134.0     253.3\n",
      "8          30   109     133.0     195.1\n",
      "9          60    98     124.0     269.0\n",
      "10         60   103     147.0     329.3\n",
      "11         60   100     120.0     250.7\n",
      "12         60   106     128.0     345.3\n",
      "13         60   104     132.0     379.3\n",
      "14         60    98     123.0     275.0\n",
      "15         60    98     120.0     215.2\n",
      "16         60   100     120.0     300.0\n",
      "18         60   103     123.0     323.0\n",
      "19         45    97     125.0     243.0\n",
      "20         60   108     131.0     364.2\n",
      "21         45   100     119.0     282.0\n",
      "22         60   130     101.0     300.0\n",
      "23         45   105     132.0     246.0\n",
      "24         60   102     126.0     334.5\n",
      "25         60   100     120.0     250.0\n",
      "26         60    92     118.0     241.0\n",
      "28         60   100     132.0     280.0\n",
      "29         60   102     129.0     380.3\n",
      "30         60    92     115.0     243.0\n",
      "31         45    90     112.0     180.1\n",
      "32         60   101     124.0     299.0\n",
      "33         60    93     113.0     223.0\n",
      "34         60   107     136.0     361.0\n",
      "35         60   114     140.0     415.0\n",
      "36         60   102     127.0     300.0\n",
      "37         60   100     120.0     300.0\n",
      "38         60   100     120.0     300.0\n",
      "39         45   104     129.0     266.0\n",
      "40         45    90     112.0     180.1\n",
      "41         60    98     126.0     286.0\n",
      "42         60   100     122.0     329.4\n",
      "43         60   111     138.0     400.0\n",
      "44         60   111     131.0     397.0\n",
      "45         60    99     119.0     273.0\n",
      "46         60   109     153.0     387.6\n",
      "47         45   111     136.0     300.0\n",
      "48         45   108     129.0     298.0\n",
      "49         60   111     139.0     397.6\n",
      "50         60   107     136.0     380.2\n",
      "51         80   123     146.0     643.1\n",
      "52         60   106     130.0     263.0\n",
      "53         60   118     151.0     486.0\n",
      "54         30   136     175.0     238.0\n",
      "55         60   121     146.0     450.7\n",
      "56         60   118     121.0     413.0\n",
      "57         45   115     144.0     305.0\n",
      "58         20   153     172.0     226.4\n",
      "59         45   123     152.0     321.0\n",
      "60        210   108     160.0    1376.0\n",
      "61        160   110     137.0    1034.4\n",
      "62        160   109     135.0     853.0\n",
      "63         45   118     141.0     341.0\n",
      "64         20   110     130.0     131.4\n",
      "65        180    90     130.0     800.4\n",
      "66        150   105     135.0     873.4\n",
      "67        150   107     130.0     816.0\n",
      "68         20   106     136.0     110.4\n",
      "69        300   108     143.0    1500.2\n",
      "70        150    97     129.0    1115.0\n",
      "71         60   109     153.0     387.6\n",
      "72         90   100     127.0     700.0\n",
      "73        150    97     127.0     953.2\n",
      "74         45   114     146.0     304.0\n",
      "75         90    98     125.0     563.2\n",
      "76         45   105     134.0     251.0\n",
      "77         45   110     141.0     300.0\n",
      "78        120   100     130.0     500.4\n",
      "79        270   100     131.0    1729.0\n",
      "80         30   159     182.0     319.2\n",
      "81         45   149     169.0     344.0\n",
      "82         30   103     139.0     151.1\n",
      "83        120   100     130.0     500.0\n",
      "84         45   100     120.0     225.3\n",
      "85         30   151     170.0     300.0\n",
      "86         45   102     136.0     234.0\n",
      "87        120   100     157.0    1000.1\n",
      "88         45   129     103.0     242.0\n",
      "89         20    83     107.0      50.3\n",
      "90        180   101     127.0     600.1\n",
      "92         30    90     107.0     105.3\n",
      "93         15    80     100.0      50.5\n",
      "94         20   150     171.0     127.4\n",
      "95         20   151     168.0     229.4\n",
      "96         30    95     128.0     128.2\n",
      "97         25   152     168.0     244.2\n",
      "98         30   109     131.0     188.2\n",
      "99         90    93     124.0     604.1\n",
      "100        20    95     112.0      77.7\n",
      "101        90    90     110.0     500.0\n",
      "102        90    90     100.0     500.0\n",
      "103        90    90     100.0     500.4\n",
      "104        30    92     108.0      92.7\n",
      "105        30    93     128.0     124.0\n",
      "106       180    90     120.0     800.3\n",
      "107        30    90     120.0      86.2\n",
      "108        90    90     120.0     500.3\n",
      "109       210   137     184.0    1860.4\n",
      "110        60   102     124.0     325.2\n",
      "111        45   107     124.0     275.0\n",
      "112        15   124     139.0     124.2\n",
      "113        45   100     120.0     225.3\n",
      "114        60   108     131.0     367.6\n",
      "115        60   108     151.0     351.7\n",
      "116        60   116     141.0     443.0\n",
      "117        60    97     122.0     277.4\n",
      "119        60   103     124.0     332.7\n",
      "120        30   112     137.0     193.9\n",
      "121        45   100     120.0     100.7\n",
      "122        60   119     169.0     336.7\n",
      "123        60   107     127.0     344.9\n",
      "124        60   111     151.0     368.5\n",
      "125        60    98     122.0     271.0\n",
      "126        60    97     124.0     275.3\n",
      "127        60   109     127.0     382.0\n",
      "128        90    99     125.0     466.4\n",
      "129        60   114     151.0     384.0\n",
      "130        60   104     134.0     342.5\n",
      "131        60   107     138.0     357.5\n",
      "132        60   103     133.0     335.0\n",
      "133        60   106     132.0     327.5\n",
      "134        60   103     136.0     339.0\n",
      "135        20   136     156.0     189.0\n",
      "136        45   117     143.0     317.7\n",
      "137        45   115     137.0     318.0\n",
      "138        45   113     138.0     308.0\n",
      "139        20   141     162.0     222.4\n",
      "140        60   108     135.0     390.0\n",
      "142        45   100     120.0     250.4\n",
      "143        45   122     149.0     335.4\n",
      "144        60   136     170.0     470.2\n",
      "145        45   106     126.0     270.8\n",
      "146        60   107     136.0     400.0\n",
      "147        60   112     146.0     361.9\n",
      "148        30   103     127.0     185.0\n",
      "149        60   110     150.0     409.4\n",
      "150        60   106     134.0     343.0\n",
      "151        60   109     129.0     353.2\n",
      "152        60   109     138.0     374.0\n",
      "153        30   150     167.0     275.8\n",
      "154        60   105     128.0     328.0\n",
      "155        60   111     151.0     368.5\n",
      "156        60    97     131.0     270.4\n",
      "157        60   100     120.0     270.4\n",
      "158        60   114     150.0     382.8\n",
      "159        30    80     120.0     240.9\n",
      "160        30    85     120.0     250.4\n",
      "161        45    90     130.0     260.4\n",
      "162        45    95     130.0     270.0\n",
      "163        45   100     140.0     280.9\n",
      "164        60   105     140.0     290.8\n",
      "165        60   110     145.0     300.0\n",
      "166        60   115     145.0     310.2\n",
      "167        75   120     150.0     320.4\n",
      "168        75   125     150.0     330.4\n"
     ]
    }
   ],
   "source": [
    "# Dropna command is used to clean the null values but no changes the original file..\n",
    "file_loading = pd.read_csv(\"Downloads/data.csv\")\n",
    "df=file_loading.dropna()\n",
    "print(df.to_string())"
   ]
  },
  {
   "cell_type": "code",
   "execution_count": 12,
   "id": "a8ae99a0-0a2c-4567-b3cb-82d11c58ed09",
   "metadata": {},
   "outputs": [],
   "source": [
    "# Dropna command is used to clean the null values but no changes the original file.. but when used inplace=true it will also changes the original file.. \n",
    "file_loading = pd.read_csv(\"Downloads/data.csv\")\n",
    "file_loading.dropna(inplace=True)"
   ]
  },
  {
   "cell_type": "code",
   "execution_count": 14,
   "id": "e9d4d2a5-35f5-4c71-9efb-2b46fb742b1f",
   "metadata": {},
   "outputs": [
    {
     "name": "stdout",
     "output_type": "stream",
     "text": [
      "     Duration Pulse  Maxpulse  Calories\n",
      "0          60   ABC     130.0     409.1\n",
      "1          60   117     145.0     479.0\n",
      "2          60   103     135.0     340.0\n",
      "4          45   117     148.0     406.0\n",
      "5          60   102     127.0     300.0\n",
      "6          60   110     136.0     374.0\n",
      "7          45   104     134.0     253.3\n",
      "8          30   109     133.0     195.1\n",
      "9          60    98     124.0     269.0\n",
      "10         60   103     147.0     329.3\n",
      "11         60   100     120.0     250.7\n",
      "12         60   106     128.0     345.3\n",
      "13         60   104     132.0     379.3\n",
      "14         60    98     123.0     275.0\n",
      "15         60    98     120.0     215.2\n",
      "16         60   100     120.0     300.0\n",
      "18         60   103     123.0     323.0\n",
      "19         45    97     125.0     243.0\n",
      "20         60   108     131.0     364.2\n",
      "21         45   100     119.0     282.0\n",
      "22         60   130     101.0     300.0\n",
      "23         45   105     132.0     246.0\n",
      "24         60   102     126.0     334.5\n",
      "25         60   100     120.0     250.0\n",
      "26         60    92     118.0     241.0\n",
      "28         60   100     132.0     280.0\n",
      "29         60   102     129.0     380.3\n",
      "30         60    92     115.0     243.0\n",
      "31         45    90     112.0     180.1\n",
      "32         60   101     124.0     299.0\n",
      "33         60    93     113.0     223.0\n",
      "34         60   107     136.0     361.0\n",
      "35         60   114     140.0     415.0\n",
      "36         60   102     127.0     300.0\n",
      "37         60   100     120.0     300.0\n",
      "38         60   100     120.0     300.0\n",
      "39         45   104     129.0     266.0\n",
      "40         45    90     112.0     180.1\n",
      "41         60    98     126.0     286.0\n",
      "42         60   100     122.0     329.4\n",
      "43         60   111     138.0     400.0\n",
      "44         60   111     131.0     397.0\n",
      "45         60    99     119.0     273.0\n",
      "46         60   109     153.0     387.6\n",
      "47         45   111     136.0     300.0\n",
      "48         45   108     129.0     298.0\n",
      "49         60   111     139.0     397.6\n",
      "50         60   107     136.0     380.2\n",
      "51         80   123     146.0     643.1\n",
      "52         60   106     130.0     263.0\n",
      "53         60   118     151.0     486.0\n",
      "54         30   136     175.0     238.0\n",
      "55         60   121     146.0     450.7\n",
      "56         60   118     121.0     413.0\n",
      "57         45   115     144.0     305.0\n",
      "58         20   153     172.0     226.4\n",
      "59         45   123     152.0     321.0\n",
      "60        210   108     160.0    1376.0\n",
      "61        160   110     137.0    1034.4\n",
      "62        160   109     135.0     853.0\n",
      "63         45   118     141.0     341.0\n",
      "64         20   110     130.0     131.4\n",
      "65        180    90     130.0     800.4\n",
      "66        150   105     135.0     873.4\n",
      "67        150   107     130.0     816.0\n",
      "68         20   106     136.0     110.4\n",
      "69        300   108     143.0    1500.2\n",
      "70        150    97     129.0    1115.0\n",
      "71         60   109     153.0     387.6\n",
      "72         90   100     127.0     700.0\n",
      "73        150    97     127.0     953.2\n",
      "74         45   114     146.0     304.0\n",
      "75         90    98     125.0     563.2\n",
      "76         45   105     134.0     251.0\n",
      "77         45   110     141.0     300.0\n",
      "78        120   100     130.0     500.4\n",
      "79        270   100     131.0    1729.0\n",
      "80         30   159     182.0     319.2\n",
      "81         45   149     169.0     344.0\n",
      "82         30   103     139.0     151.1\n",
      "83        120   100     130.0     500.0\n",
      "84         45   100     120.0     225.3\n",
      "85         30   151     170.0     300.0\n",
      "86         45   102     136.0     234.0\n",
      "87        120   100     157.0    1000.1\n",
      "88         45   129     103.0     242.0\n",
      "89         20    83     107.0      50.3\n",
      "90        180   101     127.0     600.1\n",
      "92         30    90     107.0     105.3\n",
      "93         15    80     100.0      50.5\n",
      "94         20   150     171.0     127.4\n",
      "95         20   151     168.0     229.4\n",
      "96         30    95     128.0     128.2\n",
      "97         25   152     168.0     244.2\n",
      "98         30   109     131.0     188.2\n",
      "99         90    93     124.0     604.1\n",
      "100        20    95     112.0      77.7\n",
      "101        90    90     110.0     500.0\n",
      "102        90    90     100.0     500.0\n",
      "103        90    90     100.0     500.4\n",
      "104        30    92     108.0      92.7\n",
      "105        30    93     128.0     124.0\n",
      "106       180    90     120.0     800.3\n",
      "107        30    90     120.0      86.2\n",
      "108        90    90     120.0     500.3\n",
      "109       210   137     184.0    1860.4\n",
      "110        60   102     124.0     325.2\n",
      "111        45   107     124.0     275.0\n",
      "112        15   124     139.0     124.2\n",
      "113        45   100     120.0     225.3\n",
      "114        60   108     131.0     367.6\n",
      "115        60   108     151.0     351.7\n",
      "116        60   116     141.0     443.0\n",
      "117        60    97     122.0     277.4\n",
      "119        60   103     124.0     332.7\n",
      "120        30   112     137.0     193.9\n",
      "121        45   100     120.0     100.7\n",
      "122        60   119     169.0     336.7\n",
      "123        60   107     127.0     344.9\n",
      "124        60   111     151.0     368.5\n",
      "125        60    98     122.0     271.0\n",
      "126        60    97     124.0     275.3\n",
      "127        60   109     127.0     382.0\n",
      "128        90    99     125.0     466.4\n",
      "129        60   114     151.0     384.0\n",
      "130        60   104     134.0     342.5\n",
      "131        60   107     138.0     357.5\n",
      "132        60   103     133.0     335.0\n",
      "133        60   106     132.0     327.5\n",
      "134        60   103     136.0     339.0\n",
      "135        20   136     156.0     189.0\n",
      "136        45   117     143.0     317.7\n",
      "137        45   115     137.0     318.0\n",
      "138        45   113     138.0     308.0\n",
      "139        20   141     162.0     222.4\n",
      "140        60   108     135.0     390.0\n",
      "142        45   100     120.0     250.4\n",
      "143        45   122     149.0     335.4\n",
      "144        60   136     170.0     470.2\n",
      "145        45   106     126.0     270.8\n",
      "146        60   107     136.0     400.0\n",
      "147        60   112     146.0     361.9\n",
      "148        30   103     127.0     185.0\n",
      "149        60   110     150.0     409.4\n",
      "150        60   106     134.0     343.0\n",
      "151        60   109     129.0     353.2\n",
      "152        60   109     138.0     374.0\n",
      "153        30   150     167.0     275.8\n",
      "154        60   105     128.0     328.0\n",
      "155        60   111     151.0     368.5\n",
      "156        60    97     131.0     270.4\n",
      "157        60   100     120.0     270.4\n",
      "158        60   114     150.0     382.8\n",
      "159        30    80     120.0     240.9\n",
      "160        30    85     120.0     250.4\n",
      "161        45    90     130.0     260.4\n",
      "162        45    95     130.0     270.0\n",
      "163        45   100     140.0     280.9\n",
      "164        60   105     140.0     290.8\n",
      "165        60   110     145.0     300.0\n",
      "166        60   115     145.0     310.2\n",
      "167        75   120     150.0     320.4\n",
      "168        75   125     150.0     330.4\n"
     ]
    }
   ],
   "source": [
    "print(file_loading.to_string())"
   ]
  },
  {
   "cell_type": "code",
   "execution_count": 18,
   "id": "a848b51b-d9fd-4c8d-b18c-f0c23134385c",
   "metadata": {},
   "outputs": [
    {
     "name": "stdout",
     "output_type": "stream",
     "text": [
      "     Duration Pulse  Maxpulse  Calories\n",
      "0          60   ABC     130.0     409.1\n",
      "1          60   117     145.0     479.0\n",
      "2          60   103     135.0     340.0\n",
      "3          45   109     130.0     282.4\n",
      "4          45   117     148.0     406.0\n",
      "5          60   102     127.0     300.0\n",
      "6          60   110     136.0     374.0\n",
      "7          45   104     134.0     253.3\n",
      "8          30   109     133.0     195.1\n",
      "9          60    98     124.0     269.0\n",
      "10         60   103     147.0     329.3\n",
      "11         60   100     120.0     250.7\n",
      "12         60   106     128.0     345.3\n",
      "13         60   104     132.0     379.3\n",
      "14         60    98     123.0     275.0\n",
      "15         60    98     120.0     215.2\n",
      "16         60   100     120.0     300.0\n",
      "17         45    90     112.0     130.0\n",
      "18         60   103     123.0     323.0\n",
      "19         45    97     125.0     243.0\n",
      "20         60   108     131.0     364.2\n",
      "21         45   100     119.0     282.0\n",
      "22         60   130     101.0     300.0\n",
      "23         45   105     132.0     246.0\n",
      "24         60   102     126.0     334.5\n",
      "25         60   100     120.0     250.0\n",
      "26         60    92     118.0     241.0\n",
      "27         60   103     132.0     130.0\n",
      "28         60   100     132.0     280.0\n",
      "29         60   102     129.0     380.3\n",
      "30         60    92     115.0     243.0\n",
      "31         45    90     112.0     180.1\n",
      "32         60   101     124.0     299.0\n",
      "33         60    93     113.0     223.0\n",
      "34         60   107     136.0     361.0\n",
      "35         60   114     140.0     415.0\n",
      "36         60   102     127.0     300.0\n",
      "37         60   100     120.0     300.0\n",
      "38         60   100     120.0     300.0\n",
      "39         45   104     129.0     266.0\n",
      "40         45    90     112.0     180.1\n",
      "41         60    98     126.0     286.0\n",
      "42         60   100     122.0     329.4\n",
      "43         60   111     138.0     400.0\n",
      "44         60   111     131.0     397.0\n",
      "45         60    99     119.0     273.0\n",
      "46         60   109     153.0     387.6\n",
      "47         45   111     136.0     300.0\n",
      "48         45   108     129.0     298.0\n",
      "49         60   111     139.0     397.6\n",
      "50         60   107     136.0     380.2\n",
      "51         80   123     146.0     643.1\n",
      "52         60   106     130.0     263.0\n",
      "53         60   118     151.0     486.0\n",
      "54         30   136     175.0     238.0\n",
      "55         60   121     146.0     450.7\n",
      "56         60   118     121.0     413.0\n",
      "57         45   115     144.0     305.0\n",
      "58         20   153     172.0     226.4\n",
      "59         45   123     152.0     321.0\n",
      "60        210   108     160.0    1376.0\n",
      "61        160   110     137.0    1034.4\n",
      "62        160   109     135.0     853.0\n",
      "63         45   118     141.0     341.0\n",
      "64         20   110     130.0     131.4\n",
      "65        180    90     130.0     800.4\n",
      "66        150   105     135.0     873.4\n",
      "67        150   107     130.0     816.0\n",
      "68         20   106     136.0     110.4\n",
      "69        300   108     143.0    1500.2\n",
      "70        150    97     129.0    1115.0\n",
      "71         60   109     153.0     387.6\n",
      "72         90   100     127.0     700.0\n",
      "73        150    97     127.0     953.2\n",
      "74         45   114     146.0     304.0\n",
      "75         90    98     125.0     563.2\n",
      "76         45   105     134.0     251.0\n",
      "77         45   110     141.0     300.0\n",
      "78        120   100     130.0     500.4\n",
      "79        270   100     131.0    1729.0\n",
      "80         30   159     182.0     319.2\n",
      "81         45   149     169.0     344.0\n",
      "82         30   103     139.0     151.1\n",
      "83        120   100     130.0     500.0\n",
      "84         45   100     120.0     225.3\n",
      "85         30   151     170.0     300.0\n",
      "86         45   102     136.0     234.0\n",
      "87        120   100     157.0    1000.1\n",
      "88         45   129     103.0     242.0\n",
      "89         20    83     107.0      50.3\n",
      "90        180   101     127.0     600.1\n",
      "91         45   107     137.0     130.0\n",
      "92         30    90     107.0     105.3\n",
      "93         15    80     100.0      50.5\n",
      "94         20   150     171.0     127.4\n",
      "95         20   151     168.0     229.4\n",
      "96         30    95     128.0     128.2\n",
      "97         25   152     168.0     244.2\n",
      "98         30   109     131.0     188.2\n",
      "99         90    93     124.0     604.1\n",
      "100        20    95     112.0      77.7\n",
      "101        90    90     110.0     500.0\n",
      "102        90    90     100.0     500.0\n",
      "103        90    90     100.0     500.4\n",
      "104        30    92     108.0      92.7\n",
      "105        30    93     128.0     124.0\n",
      "106       180    90     120.0     800.3\n",
      "107        30    90     120.0      86.2\n",
      "108        90    90     120.0     500.3\n",
      "109       210   137     184.0    1860.4\n",
      "110        60   102     124.0     325.2\n",
      "111        45   107     124.0     275.0\n",
      "112        15   124     139.0     124.2\n",
      "113        45   100     120.0     225.3\n",
      "114        60   108     131.0     367.6\n",
      "115        60   108     151.0     351.7\n",
      "116        60   116     141.0     443.0\n",
      "117        60    97     122.0     277.4\n",
      "118        60   105     125.0     130.0\n",
      "119        60   103     124.0     332.7\n",
      "120        30   112     137.0     193.9\n",
      "121        45   100     120.0     100.7\n",
      "122        60   119     169.0     336.7\n",
      "123        60   107     127.0     344.9\n",
      "124        60   111     151.0     368.5\n",
      "125        60    98     122.0     271.0\n",
      "126        60    97     124.0     275.3\n",
      "127        60   109     127.0     382.0\n",
      "128        90    99     125.0     466.4\n",
      "129        60   114     151.0     384.0\n",
      "130        60   104     134.0     342.5\n",
      "131        60   107     138.0     357.5\n",
      "132        60   103     133.0     335.0\n",
      "133        60   106     132.0     327.5\n",
      "134        60   103     136.0     339.0\n",
      "135        20   136     156.0     189.0\n",
      "136        45   117     143.0     317.7\n",
      "137        45   115     137.0     318.0\n",
      "138        45   113     138.0     308.0\n",
      "139        20   141     162.0     222.4\n",
      "140        60   108     135.0     390.0\n",
      "141        60    97     127.0     130.0\n",
      "142        45   100     120.0     250.4\n",
      "143        45   122     149.0     335.4\n",
      "144        60   136     170.0     470.2\n",
      "145        45   106     126.0     270.8\n",
      "146        60   107     136.0     400.0\n",
      "147        60   112     146.0     361.9\n",
      "148        30   103     127.0     185.0\n",
      "149        60   110     150.0     409.4\n",
      "150        60   106     134.0     343.0\n",
      "151        60   109     129.0     353.2\n",
      "152        60   109     138.0     374.0\n",
      "153        30   150     167.0     275.8\n",
      "154        60   105     128.0     328.0\n",
      "155        60   111     151.0     368.5\n",
      "156        60    97     131.0     270.4\n",
      "157        60   100     120.0     270.4\n",
      "158        60   114     150.0     382.8\n",
      "159        30    80     120.0     240.9\n",
      "160        30    85     120.0     250.4\n",
      "161        45    90     130.0     260.4\n",
      "162        45    95     130.0     270.0\n",
      "163        45   100     140.0     280.9\n",
      "164        60   105     140.0     290.8\n",
      "165        60   110     145.0     300.0\n",
      "166        60   115     145.0     310.2\n",
      "167        75   120     150.0     320.4\n",
      "168        75   125     150.0     330.4\n"
     ]
    }
   ],
   "source": [
    "df = pd.read_csv('Downloads/data.csv')\n",
    "\n",
    "df.fillna(130, inplace = True)\n",
    "print(df.to_string())"
   ]
  },
  {
   "cell_type": "code",
   "execution_count": null,
   "id": "d2af6c3d-aeab-4ec1-8f97-73e5667a1aa8",
   "metadata": {},
   "outputs": [],
   "source": []
  }
 ],
 "metadata": {
  "kernelspec": {
   "display_name": "Python 3 (ipykernel)",
   "language": "python",
   "name": "python3"
  },
  "language_info": {
   "codemirror_mode": {
    "name": "ipython",
    "version": 3
   },
   "file_extension": ".py",
   "mimetype": "text/x-python",
   "name": "python",
   "nbconvert_exporter": "python",
   "pygments_lexer": "ipython3",
   "version": "3.12.4"
  }
 },
 "nbformat": 4,
 "nbformat_minor": 5
}
